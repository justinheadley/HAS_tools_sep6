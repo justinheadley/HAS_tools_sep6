{
 "cells": [
  {
   "cell_type": "code",
   "execution_count": 8,
   "metadata": {},
   "outputs": [
    {
     "name": "stdout",
     "output_type": "stream",
     "text": [
      "101325.0\n",
      "100064.28602615556\n",
      "98819.25820798687\n",
      "97589.72137396022\n",
      "96375.48278092062\n",
      "95176.35208387733\n",
      "93992.14130616518\n",
      "92822.66480997724\n",
      "91667.73926726401\n",
      "90527.1836309949\n"
     ]
    }
   ],
   "source": [
    "# p = p0 * exp ((-ghM)/(T0 * R0))\n",
    "\n",
    "import numpy as np\n",
    "\n",
    "\n",
    "def air_pressure_at_height(h):\n",
    "    p0 = 101325 # reference pressure in Pa\n",
    "    M = 0.02896968 # molar mass of air in kg/mol\n",
    "    g = 9.81 # gravity in m/s^2\n",
    "    R0 = 8.314462618 # gas constant in J/(mol*K)\n",
    "    T = 273 # temp in Kelvin\n",
    "    ratio = -(g * h * M) / (R0 * T)\n",
    "    p_h = p0 * np.exp(ratio)\n",
    "    return p_h\n",
    "\n",
    "h_list = range(0,1000,100)\n",
    "for height in h_list:\n",
    "    p_h = air_pressure_at_height(height)\n",
    "    print(p_h)\n"
   ]
  },
  {
   "cell_type": "code",
   "execution_count": null,
   "metadata": {},
   "outputs": [],
   "source": []
  }
 ],
 "metadata": {
  "kernelspec": {
   "display_name": "Python 3.8.13 ('gwmod')",
   "language": "python",
   "name": "python3"
  },
  "language_info": {
   "codemirror_mode": {
    "name": "ipython",
    "version": 3
   },
   "file_extension": ".py",
   "mimetype": "text/x-python",
   "name": "python",
   "nbconvert_exporter": "python",
   "pygments_lexer": "ipython3",
   "version": "3.8.13"
  },
  "orig_nbformat": 4,
  "vscode": {
   "interpreter": {
    "hash": "c6ff4bd0be82d5a4a2b61b3d9b14db4e57f50d6bf77bd8507e8ffb2587de1319"
   }
  }
 },
 "nbformat": 4,
 "nbformat_minor": 2
}
